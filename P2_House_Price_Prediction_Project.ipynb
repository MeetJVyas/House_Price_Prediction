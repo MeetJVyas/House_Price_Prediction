{
 "cells": [
  {
   "cell_type": "markdown",
   "id": "7bfcf7aa",
   "metadata": {},
   "source": [
    "# Problem Statement"
   ]
  },
  {
   "cell_type": "markdown",
   "id": "24b0e3ed",
   "metadata": {},
   "source": [
    "In this particular project, we are using a dataset that contains information like, Address, Rooms, Type, Price, Seller etc and using that to predict the price of a given house. However, before you go ahead and make a prediction, it is advised that you first pre-process the data, since it may contain some irregularities and noise. In addition, try various tricks and techniques in order to gain the best accuracy in your predictions."
   ]
  },
  {
   "cell_type": "markdown",
   "id": "7802357f",
   "metadata": {},
   "source": [
    "## Part-1"
   ]
  },
  {
   "cell_type": "markdown",
   "id": "cf312266",
   "metadata": {},
   "source": [
    "## Data Exploration and Pre-processing"
   ]
  },
  {
   "cell_type": "markdown",
   "id": "ac441c4f",
   "metadata": {},
   "source": [
    "### Importing Libraries"
   ]
  },
  {
   "cell_type": "code",
   "execution_count": 1,
   "id": "026d21db",
   "metadata": {},
   "outputs": [],
   "source": [
    "import numpy as np\n",
    "import pandas as pd\n",
    "import matplotlib.pyplot as plt\n",
    "import seaborn as sns\n",
    "from sklearn.model_selection import train_test_split as tts\n",
    "from sklearn.preprocessing import OneHotEncoder\n",
    "from sklearn.linear_model import LinearRegression,Lasso,Ridge\n",
    "from sklearn.metrics import r2_score,mean_squared_error as mse,mean_absolute_error as mae"
   ]
  },
  {
   "cell_type": "markdown",
   "id": "75247926",
   "metadata": {},
   "source": [
    "### 1 - Importing the Dataset in the file"
   ]
  },
  {
   "cell_type": "code",
   "execution_count": 2,
   "id": "c6459623",
   "metadata": {},
   "outputs": [
    {
     "data": {
      "text/html": [
       "<div>\n",
       "<style scoped>\n",
       "    .dataframe tbody tr th:only-of-type {\n",
       "        vertical-align: middle;\n",
       "    }\n",
       "\n",
       "    .dataframe tbody tr th {\n",
       "        vertical-align: top;\n",
       "    }\n",
       "\n",
       "    .dataframe thead th {\n",
       "        text-align: right;\n",
       "    }\n",
       "</style>\n",
       "<table border=\"1\" class=\"dataframe\">\n",
       "  <thead>\n",
       "    <tr style=\"text-align: right;\">\n",
       "      <th></th>\n",
       "      <th>Suburb</th>\n",
       "      <th>Address</th>\n",
       "      <th>Rooms</th>\n",
       "      <th>Type</th>\n",
       "      <th>Price</th>\n",
       "      <th>Method</th>\n",
       "      <th>SellerG</th>\n",
       "      <th>Date</th>\n",
       "      <th>Distance</th>\n",
       "      <th>Postcode</th>\n",
       "      <th>...</th>\n",
       "      <th>Bathroom</th>\n",
       "      <th>Car</th>\n",
       "      <th>Landsize</th>\n",
       "      <th>BuildingArea</th>\n",
       "      <th>YearBuilt</th>\n",
       "      <th>CouncilArea</th>\n",
       "      <th>Lattitude</th>\n",
       "      <th>Longtitude</th>\n",
       "      <th>Regionname</th>\n",
       "      <th>Propertycount</th>\n",
       "    </tr>\n",
       "  </thead>\n",
       "  <tbody>\n",
       "    <tr>\n",
       "      <th>0</th>\n",
       "      <td>Abbotsford</td>\n",
       "      <td>68 Studley St</td>\n",
       "      <td>2</td>\n",
       "      <td>h</td>\n",
       "      <td>NaN</td>\n",
       "      <td>SS</td>\n",
       "      <td>Jellis</td>\n",
       "      <td>03/09/2016</td>\n",
       "      <td>2.5</td>\n",
       "      <td>3067.0</td>\n",
       "      <td>...</td>\n",
       "      <td>1.0</td>\n",
       "      <td>1.0</td>\n",
       "      <td>126.0</td>\n",
       "      <td>NaN</td>\n",
       "      <td>NaN</td>\n",
       "      <td>Yarra City Council</td>\n",
       "      <td>-37.8014</td>\n",
       "      <td>144.9958</td>\n",
       "      <td>Northern Metropolitan</td>\n",
       "      <td>4019.0</td>\n",
       "    </tr>\n",
       "    <tr>\n",
       "      <th>1</th>\n",
       "      <td>Abbotsford</td>\n",
       "      <td>85 Turner St</td>\n",
       "      <td>2</td>\n",
       "      <td>h</td>\n",
       "      <td>1480000.0</td>\n",
       "      <td>S</td>\n",
       "      <td>Biggin</td>\n",
       "      <td>03/12/2016</td>\n",
       "      <td>2.5</td>\n",
       "      <td>3067.0</td>\n",
       "      <td>...</td>\n",
       "      <td>1.0</td>\n",
       "      <td>1.0</td>\n",
       "      <td>202.0</td>\n",
       "      <td>NaN</td>\n",
       "      <td>NaN</td>\n",
       "      <td>Yarra City Council</td>\n",
       "      <td>-37.7996</td>\n",
       "      <td>144.9984</td>\n",
       "      <td>Northern Metropolitan</td>\n",
       "      <td>4019.0</td>\n",
       "    </tr>\n",
       "    <tr>\n",
       "      <th>2</th>\n",
       "      <td>Abbotsford</td>\n",
       "      <td>25 Bloomburg St</td>\n",
       "      <td>2</td>\n",
       "      <td>h</td>\n",
       "      <td>1035000.0</td>\n",
       "      <td>S</td>\n",
       "      <td>Biggin</td>\n",
       "      <td>04/02/2016</td>\n",
       "      <td>2.5</td>\n",
       "      <td>3067.0</td>\n",
       "      <td>...</td>\n",
       "      <td>1.0</td>\n",
       "      <td>0.0</td>\n",
       "      <td>156.0</td>\n",
       "      <td>79.0</td>\n",
       "      <td>1900.0</td>\n",
       "      <td>Yarra City Council</td>\n",
       "      <td>-37.8079</td>\n",
       "      <td>144.9934</td>\n",
       "      <td>Northern Metropolitan</td>\n",
       "      <td>4019.0</td>\n",
       "    </tr>\n",
       "    <tr>\n",
       "      <th>3</th>\n",
       "      <td>Abbotsford</td>\n",
       "      <td>18/659 Victoria St</td>\n",
       "      <td>3</td>\n",
       "      <td>u</td>\n",
       "      <td>NaN</td>\n",
       "      <td>VB</td>\n",
       "      <td>Rounds</td>\n",
       "      <td>04/02/2016</td>\n",
       "      <td>2.5</td>\n",
       "      <td>3067.0</td>\n",
       "      <td>...</td>\n",
       "      <td>2.0</td>\n",
       "      <td>1.0</td>\n",
       "      <td>0.0</td>\n",
       "      <td>NaN</td>\n",
       "      <td>NaN</td>\n",
       "      <td>Yarra City Council</td>\n",
       "      <td>-37.8114</td>\n",
       "      <td>145.0116</td>\n",
       "      <td>Northern Metropolitan</td>\n",
       "      <td>4019.0</td>\n",
       "    </tr>\n",
       "    <tr>\n",
       "      <th>4</th>\n",
       "      <td>Abbotsford</td>\n",
       "      <td>5 Charles St</td>\n",
       "      <td>3</td>\n",
       "      <td>h</td>\n",
       "      <td>1465000.0</td>\n",
       "      <td>SP</td>\n",
       "      <td>Biggin</td>\n",
       "      <td>04/03/2017</td>\n",
       "      <td>2.5</td>\n",
       "      <td>3067.0</td>\n",
       "      <td>...</td>\n",
       "      <td>2.0</td>\n",
       "      <td>0.0</td>\n",
       "      <td>134.0</td>\n",
       "      <td>150.0</td>\n",
       "      <td>1900.0</td>\n",
       "      <td>Yarra City Council</td>\n",
       "      <td>-37.8093</td>\n",
       "      <td>144.9944</td>\n",
       "      <td>Northern Metropolitan</td>\n",
       "      <td>4019.0</td>\n",
       "    </tr>\n",
       "  </tbody>\n",
       "</table>\n",
       "<p>5 rows × 21 columns</p>\n",
       "</div>"
      ],
      "text/plain": [
       "       Suburb             Address  Rooms Type      Price Method SellerG  \\\n",
       "0  Abbotsford       68 Studley St      2    h        NaN     SS  Jellis   \n",
       "1  Abbotsford        85 Turner St      2    h  1480000.0      S  Biggin   \n",
       "2  Abbotsford     25 Bloomburg St      2    h  1035000.0      S  Biggin   \n",
       "3  Abbotsford  18/659 Victoria St      3    u        NaN     VB  Rounds   \n",
       "4  Abbotsford        5 Charles St      3    h  1465000.0     SP  Biggin   \n",
       "\n",
       "         Date  Distance  Postcode  ...  Bathroom  Car  Landsize  BuildingArea  \\\n",
       "0  03/09/2016       2.5    3067.0  ...       1.0  1.0     126.0           NaN   \n",
       "1  03/12/2016       2.5    3067.0  ...       1.0  1.0     202.0           NaN   \n",
       "2  04/02/2016       2.5    3067.0  ...       1.0  0.0     156.0          79.0   \n",
       "3  04/02/2016       2.5    3067.0  ...       2.0  1.0       0.0           NaN   \n",
       "4  04/03/2017       2.5    3067.0  ...       2.0  0.0     134.0         150.0   \n",
       "\n",
       "   YearBuilt         CouncilArea Lattitude  Longtitude             Regionname  \\\n",
       "0        NaN  Yarra City Council  -37.8014    144.9958  Northern Metropolitan   \n",
       "1        NaN  Yarra City Council  -37.7996    144.9984  Northern Metropolitan   \n",
       "2     1900.0  Yarra City Council  -37.8079    144.9934  Northern Metropolitan   \n",
       "3        NaN  Yarra City Council  -37.8114    145.0116  Northern Metropolitan   \n",
       "4     1900.0  Yarra City Council  -37.8093    144.9944  Northern Metropolitan   \n",
       "\n",
       "  Propertycount  \n",
       "0        4019.0  \n",
       "1        4019.0  \n",
       "2        4019.0  \n",
       "3        4019.0  \n",
       "4        4019.0  \n",
       "\n",
       "[5 rows x 21 columns]"
      ]
     },
     "execution_count": 2,
     "metadata": {},
     "output_type": "execute_result"
    }
   ],
   "source": [
    "df = pd.read_csv(r\"C:\\Users\\Vyas\\1_Assignment\\ML FT Projects\\Linear Regression\\P2_House Price Prediction Project\\Python_Linear_Regres.csv\")\n",
    "df.head()"
   ]
  },
  {
   "cell_type": "markdown",
   "id": "f51072f3",
   "metadata": {},
   "source": [
    "### 2 - Print names of the Column"
   ]
  },
  {
   "cell_type": "code",
   "execution_count": 3,
   "id": "238c41fc",
   "metadata": {},
   "outputs": [
    {
     "data": {
      "text/plain": [
       "Index(['Suburb', 'Address', 'Rooms', 'Type', 'Price', 'Method', 'SellerG',\n",
       "       'Date', 'Distance', 'Postcode', 'Bedroom2', 'Bathroom', 'Car',\n",
       "       'Landsize', 'BuildingArea', 'YearBuilt', 'CouncilArea', 'Lattitude',\n",
       "       'Longtitude', 'Regionname', 'Propertycount'],\n",
       "      dtype='object')"
      ]
     },
     "execution_count": 3,
     "metadata": {},
     "output_type": "execute_result"
    }
   ],
   "source": [
    "df.columns"
   ]
  },
  {
   "cell_type": "markdown",
   "id": "66b93a62",
   "metadata": {},
   "source": [
    "### 3 - Describing the Data"
   ]
  },
  {
   "cell_type": "code",
   "execution_count": 4,
   "id": "54512e0b",
   "metadata": {
    "scrolled": true
   },
   "outputs": [
    {
     "data": {
      "text/html": [
       "<div>\n",
       "<style scoped>\n",
       "    .dataframe tbody tr th:only-of-type {\n",
       "        vertical-align: middle;\n",
       "    }\n",
       "\n",
       "    .dataframe tbody tr th {\n",
       "        vertical-align: top;\n",
       "    }\n",
       "\n",
       "    .dataframe thead th {\n",
       "        text-align: right;\n",
       "    }\n",
       "</style>\n",
       "<table border=\"1\" class=\"dataframe\">\n",
       "  <thead>\n",
       "    <tr style=\"text-align: right;\">\n",
       "      <th></th>\n",
       "      <th>Rooms</th>\n",
       "      <th>Price</th>\n",
       "      <th>Distance</th>\n",
       "      <th>Postcode</th>\n",
       "      <th>Bedroom2</th>\n",
       "      <th>Bathroom</th>\n",
       "      <th>Car</th>\n",
       "      <th>Landsize</th>\n",
       "      <th>BuildingArea</th>\n",
       "      <th>YearBuilt</th>\n",
       "      <th>Lattitude</th>\n",
       "      <th>Longtitude</th>\n",
       "      <th>Propertycount</th>\n",
       "    </tr>\n",
       "  </thead>\n",
       "  <tbody>\n",
       "    <tr>\n",
       "      <th>count</th>\n",
       "      <td>34857.000000</td>\n",
       "      <td>2.724700e+04</td>\n",
       "      <td>34856.000000</td>\n",
       "      <td>34856.000000</td>\n",
       "      <td>26640.000000</td>\n",
       "      <td>26631.000000</td>\n",
       "      <td>26129.000000</td>\n",
       "      <td>23047.000000</td>\n",
       "      <td>13742.00000</td>\n",
       "      <td>15551.000000</td>\n",
       "      <td>26881.000000</td>\n",
       "      <td>26881.000000</td>\n",
       "      <td>34854.000000</td>\n",
       "    </tr>\n",
       "    <tr>\n",
       "      <th>mean</th>\n",
       "      <td>3.031012</td>\n",
       "      <td>1.050173e+06</td>\n",
       "      <td>11.184929</td>\n",
       "      <td>3116.062859</td>\n",
       "      <td>3.084647</td>\n",
       "      <td>1.624798</td>\n",
       "      <td>1.728845</td>\n",
       "      <td>593.598993</td>\n",
       "      <td>160.25640</td>\n",
       "      <td>1965.289885</td>\n",
       "      <td>-37.810634</td>\n",
       "      <td>145.001851</td>\n",
       "      <td>7572.888306</td>\n",
       "    </tr>\n",
       "    <tr>\n",
       "      <th>std</th>\n",
       "      <td>0.969933</td>\n",
       "      <td>6.414671e+05</td>\n",
       "      <td>6.788892</td>\n",
       "      <td>109.023903</td>\n",
       "      <td>0.980690</td>\n",
       "      <td>0.724212</td>\n",
       "      <td>1.010771</td>\n",
       "      <td>3398.841946</td>\n",
       "      <td>401.26706</td>\n",
       "      <td>37.328178</td>\n",
       "      <td>0.090279</td>\n",
       "      <td>0.120169</td>\n",
       "      <td>4428.090313</td>\n",
       "    </tr>\n",
       "    <tr>\n",
       "      <th>min</th>\n",
       "      <td>1.000000</td>\n",
       "      <td>8.500000e+04</td>\n",
       "      <td>0.000000</td>\n",
       "      <td>3000.000000</td>\n",
       "      <td>0.000000</td>\n",
       "      <td>0.000000</td>\n",
       "      <td>0.000000</td>\n",
       "      <td>0.000000</td>\n",
       "      <td>0.00000</td>\n",
       "      <td>1196.000000</td>\n",
       "      <td>-38.190430</td>\n",
       "      <td>144.423790</td>\n",
       "      <td>83.000000</td>\n",
       "    </tr>\n",
       "    <tr>\n",
       "      <th>25%</th>\n",
       "      <td>2.000000</td>\n",
       "      <td>6.350000e+05</td>\n",
       "      <td>6.400000</td>\n",
       "      <td>3051.000000</td>\n",
       "      <td>2.000000</td>\n",
       "      <td>1.000000</td>\n",
       "      <td>1.000000</td>\n",
       "      <td>224.000000</td>\n",
       "      <td>102.00000</td>\n",
       "      <td>1940.000000</td>\n",
       "      <td>-37.862950</td>\n",
       "      <td>144.933500</td>\n",
       "      <td>4385.000000</td>\n",
       "    </tr>\n",
       "    <tr>\n",
       "      <th>50%</th>\n",
       "      <td>3.000000</td>\n",
       "      <td>8.700000e+05</td>\n",
       "      <td>10.300000</td>\n",
       "      <td>3103.000000</td>\n",
       "      <td>3.000000</td>\n",
       "      <td>2.000000</td>\n",
       "      <td>2.000000</td>\n",
       "      <td>521.000000</td>\n",
       "      <td>136.00000</td>\n",
       "      <td>1970.000000</td>\n",
       "      <td>-37.807600</td>\n",
       "      <td>145.007800</td>\n",
       "      <td>6763.000000</td>\n",
       "    </tr>\n",
       "    <tr>\n",
       "      <th>75%</th>\n",
       "      <td>4.000000</td>\n",
       "      <td>1.295000e+06</td>\n",
       "      <td>14.000000</td>\n",
       "      <td>3156.000000</td>\n",
       "      <td>4.000000</td>\n",
       "      <td>2.000000</td>\n",
       "      <td>2.000000</td>\n",
       "      <td>670.000000</td>\n",
       "      <td>188.00000</td>\n",
       "      <td>2000.000000</td>\n",
       "      <td>-37.754100</td>\n",
       "      <td>145.071900</td>\n",
       "      <td>10412.000000</td>\n",
       "    </tr>\n",
       "    <tr>\n",
       "      <th>max</th>\n",
       "      <td>16.000000</td>\n",
       "      <td>1.120000e+07</td>\n",
       "      <td>48.100000</td>\n",
       "      <td>3978.000000</td>\n",
       "      <td>30.000000</td>\n",
       "      <td>12.000000</td>\n",
       "      <td>26.000000</td>\n",
       "      <td>433014.000000</td>\n",
       "      <td>44515.00000</td>\n",
       "      <td>2106.000000</td>\n",
       "      <td>-37.390200</td>\n",
       "      <td>145.526350</td>\n",
       "      <td>21650.000000</td>\n",
       "    </tr>\n",
       "  </tbody>\n",
       "</table>\n",
       "</div>"
      ],
      "text/plain": [
       "              Rooms         Price      Distance      Postcode      Bedroom2  \\\n",
       "count  34857.000000  2.724700e+04  34856.000000  34856.000000  26640.000000   \n",
       "mean       3.031012  1.050173e+06     11.184929   3116.062859      3.084647   \n",
       "std        0.969933  6.414671e+05      6.788892    109.023903      0.980690   \n",
       "min        1.000000  8.500000e+04      0.000000   3000.000000      0.000000   \n",
       "25%        2.000000  6.350000e+05      6.400000   3051.000000      2.000000   \n",
       "50%        3.000000  8.700000e+05     10.300000   3103.000000      3.000000   \n",
       "75%        4.000000  1.295000e+06     14.000000   3156.000000      4.000000   \n",
       "max       16.000000  1.120000e+07     48.100000   3978.000000     30.000000   \n",
       "\n",
       "           Bathroom           Car       Landsize  BuildingArea     YearBuilt  \\\n",
       "count  26631.000000  26129.000000   23047.000000   13742.00000  15551.000000   \n",
       "mean       1.624798      1.728845     593.598993     160.25640   1965.289885   \n",
       "std        0.724212      1.010771    3398.841946     401.26706     37.328178   \n",
       "min        0.000000      0.000000       0.000000       0.00000   1196.000000   \n",
       "25%        1.000000      1.000000     224.000000     102.00000   1940.000000   \n",
       "50%        2.000000      2.000000     521.000000     136.00000   1970.000000   \n",
       "75%        2.000000      2.000000     670.000000     188.00000   2000.000000   \n",
       "max       12.000000     26.000000  433014.000000   44515.00000   2106.000000   \n",
       "\n",
       "          Lattitude    Longtitude  Propertycount  \n",
       "count  26881.000000  26881.000000   34854.000000  \n",
       "mean     -37.810634    145.001851    7572.888306  \n",
       "std        0.090279      0.120169    4428.090313  \n",
       "min      -38.190430    144.423790      83.000000  \n",
       "25%      -37.862950    144.933500    4385.000000  \n",
       "50%      -37.807600    145.007800    6763.000000  \n",
       "75%      -37.754100    145.071900   10412.000000  \n",
       "max      -37.390200    145.526350   21650.000000  "
      ]
     },
     "execution_count": 4,
     "metadata": {},
     "output_type": "execute_result"
    }
   ],
   "source": [
    "df.describe()"
   ]
  },
  {
   "cell_type": "markdown",
   "id": "4546f63e",
   "metadata": {},
   "source": [
    "### 4 - Droping the non relevant columns"
   ]
  },
  {
   "cell_type": "code",
   "execution_count": 5,
   "id": "dd5613b1",
   "metadata": {},
   "outputs": [
    {
     "data": {
      "text/html": [
       "<div>\n",
       "<style scoped>\n",
       "    .dataframe tbody tr th:only-of-type {\n",
       "        vertical-align: middle;\n",
       "    }\n",
       "\n",
       "    .dataframe tbody tr th {\n",
       "        vertical-align: top;\n",
       "    }\n",
       "\n",
       "    .dataframe thead th {\n",
       "        text-align: right;\n",
       "    }\n",
       "</style>\n",
       "<table border=\"1\" class=\"dataframe\">\n",
       "  <thead>\n",
       "    <tr style=\"text-align: right;\">\n",
       "      <th></th>\n",
       "      <th>Suburb</th>\n",
       "      <th>Rooms</th>\n",
       "      <th>Type</th>\n",
       "      <th>Price</th>\n",
       "      <th>Method</th>\n",
       "      <th>SellerG</th>\n",
       "      <th>Distance</th>\n",
       "      <th>Bedroom2</th>\n",
       "      <th>Bathroom</th>\n",
       "      <th>Car</th>\n",
       "      <th>Landsize</th>\n",
       "      <th>BuildingArea</th>\n",
       "      <th>CouncilArea</th>\n",
       "      <th>Longtitude</th>\n",
       "      <th>Regionname</th>\n",
       "      <th>Propertycount</th>\n",
       "    </tr>\n",
       "  </thead>\n",
       "  <tbody>\n",
       "    <tr>\n",
       "      <th>0</th>\n",
       "      <td>Abbotsford</td>\n",
       "      <td>2</td>\n",
       "      <td>h</td>\n",
       "      <td>NaN</td>\n",
       "      <td>SS</td>\n",
       "      <td>Jellis</td>\n",
       "      <td>2.5</td>\n",
       "      <td>2.0</td>\n",
       "      <td>1.0</td>\n",
       "      <td>1.0</td>\n",
       "      <td>126.0</td>\n",
       "      <td>NaN</td>\n",
       "      <td>Yarra City Council</td>\n",
       "      <td>144.9958</td>\n",
       "      <td>Northern Metropolitan</td>\n",
       "      <td>4019.0</td>\n",
       "    </tr>\n",
       "    <tr>\n",
       "      <th>1</th>\n",
       "      <td>Abbotsford</td>\n",
       "      <td>2</td>\n",
       "      <td>h</td>\n",
       "      <td>1480000.0</td>\n",
       "      <td>S</td>\n",
       "      <td>Biggin</td>\n",
       "      <td>2.5</td>\n",
       "      <td>2.0</td>\n",
       "      <td>1.0</td>\n",
       "      <td>1.0</td>\n",
       "      <td>202.0</td>\n",
       "      <td>NaN</td>\n",
       "      <td>Yarra City Council</td>\n",
       "      <td>144.9984</td>\n",
       "      <td>Northern Metropolitan</td>\n",
       "      <td>4019.0</td>\n",
       "    </tr>\n",
       "    <tr>\n",
       "      <th>2</th>\n",
       "      <td>Abbotsford</td>\n",
       "      <td>2</td>\n",
       "      <td>h</td>\n",
       "      <td>1035000.0</td>\n",
       "      <td>S</td>\n",
       "      <td>Biggin</td>\n",
       "      <td>2.5</td>\n",
       "      <td>2.0</td>\n",
       "      <td>1.0</td>\n",
       "      <td>0.0</td>\n",
       "      <td>156.0</td>\n",
       "      <td>79.0</td>\n",
       "      <td>Yarra City Council</td>\n",
       "      <td>144.9934</td>\n",
       "      <td>Northern Metropolitan</td>\n",
       "      <td>4019.0</td>\n",
       "    </tr>\n",
       "    <tr>\n",
       "      <th>3</th>\n",
       "      <td>Abbotsford</td>\n",
       "      <td>3</td>\n",
       "      <td>u</td>\n",
       "      <td>NaN</td>\n",
       "      <td>VB</td>\n",
       "      <td>Rounds</td>\n",
       "      <td>2.5</td>\n",
       "      <td>3.0</td>\n",
       "      <td>2.0</td>\n",
       "      <td>1.0</td>\n",
       "      <td>0.0</td>\n",
       "      <td>NaN</td>\n",
       "      <td>Yarra City Council</td>\n",
       "      <td>145.0116</td>\n",
       "      <td>Northern Metropolitan</td>\n",
       "      <td>4019.0</td>\n",
       "    </tr>\n",
       "    <tr>\n",
       "      <th>4</th>\n",
       "      <td>Abbotsford</td>\n",
       "      <td>3</td>\n",
       "      <td>h</td>\n",
       "      <td>1465000.0</td>\n",
       "      <td>SP</td>\n",
       "      <td>Biggin</td>\n",
       "      <td>2.5</td>\n",
       "      <td>3.0</td>\n",
       "      <td>2.0</td>\n",
       "      <td>0.0</td>\n",
       "      <td>134.0</td>\n",
       "      <td>150.0</td>\n",
       "      <td>Yarra City Council</td>\n",
       "      <td>144.9944</td>\n",
       "      <td>Northern Metropolitan</td>\n",
       "      <td>4019.0</td>\n",
       "    </tr>\n",
       "  </tbody>\n",
       "</table>\n",
       "</div>"
      ],
      "text/plain": [
       "       Suburb  Rooms Type      Price Method SellerG  Distance  Bedroom2  \\\n",
       "0  Abbotsford      2    h        NaN     SS  Jellis       2.5       2.0   \n",
       "1  Abbotsford      2    h  1480000.0      S  Biggin       2.5       2.0   \n",
       "2  Abbotsford      2    h  1035000.0      S  Biggin       2.5       2.0   \n",
       "3  Abbotsford      3    u        NaN     VB  Rounds       2.5       3.0   \n",
       "4  Abbotsford      3    h  1465000.0     SP  Biggin       2.5       3.0   \n",
       "\n",
       "   Bathroom  Car  Landsize  BuildingArea         CouncilArea  Longtitude  \\\n",
       "0       1.0  1.0     126.0           NaN  Yarra City Council    144.9958   \n",
       "1       1.0  1.0     202.0           NaN  Yarra City Council    144.9984   \n",
       "2       1.0  0.0     156.0          79.0  Yarra City Council    144.9934   \n",
       "3       2.0  1.0       0.0           NaN  Yarra City Council    145.0116   \n",
       "4       2.0  0.0     134.0         150.0  Yarra City Council    144.9944   \n",
       "\n",
       "              Regionname  Propertycount  \n",
       "0  Northern Metropolitan         4019.0  \n",
       "1  Northern Metropolitan         4019.0  \n",
       "2  Northern Metropolitan         4019.0  \n",
       "3  Northern Metropolitan         4019.0  \n",
       "4  Northern Metropolitan         4019.0  "
      ]
     },
     "execution_count": 5,
     "metadata": {},
     "output_type": "execute_result"
    }
   ],
   "source": [
    "df.drop(['Address','Date','Postcode','YearBuilt','Lattitude'], axis=1,inplace=True)\n",
    "df.head()"
   ]
  },
  {
   "cell_type": "markdown",
   "id": "6a1a8744",
   "metadata": {},
   "source": [
    "### 5 - Counting Null values in each column"
   ]
  },
  {
   "cell_type": "code",
   "execution_count": 6,
   "id": "56e8016c",
   "metadata": {},
   "outputs": [
    {
     "data": {
      "text/plain": [
       "Suburb               0\n",
       "Rooms                0\n",
       "Type                 0\n",
       "Price             7610\n",
       "Method               0\n",
       "SellerG              0\n",
       "Distance             1\n",
       "Bedroom2          8217\n",
       "Bathroom          8226\n",
       "Car               8728\n",
       "Landsize         11810\n",
       "BuildingArea     21115\n",
       "CouncilArea          3\n",
       "Longtitude        7976\n",
       "Regionname           3\n",
       "Propertycount        3\n",
       "dtype: int64"
      ]
     },
     "execution_count": 6,
     "metadata": {},
     "output_type": "execute_result"
    }
   ],
   "source": [
    "df.isnull().sum()"
   ]
  },
  {
   "cell_type": "markdown",
   "id": "b286dab9",
   "metadata": {},
   "source": [
    "### 6 - Fill Null values with 0 in few columns"
   ]
  },
  {
   "cell_type": "code",
   "execution_count": 7,
   "id": "ee5bce68",
   "metadata": {},
   "outputs": [
    {
     "data": {
      "text/plain": [
       "Suburb               0\n",
       "Rooms                0\n",
       "Type                 0\n",
       "Price             7610\n",
       "Method               0\n",
       "SellerG              0\n",
       "Distance             0\n",
       "Bedroom2             0\n",
       "Bathroom             0\n",
       "Car                  0\n",
       "Landsize         11810\n",
       "BuildingArea     21115\n",
       "CouncilArea          3\n",
       "Longtitude        7976\n",
       "Regionname           3\n",
       "Propertycount        0\n",
       "dtype: int64"
      ]
     },
     "execution_count": 7,
     "metadata": {},
     "output_type": "execute_result"
    }
   ],
   "source": [
    "x = ['Propertycount','Distance','Bedroom2','Bathroom','Car']\n",
    "for i in x:\n",
    "    df[i] = df[i].fillna(0)\n",
    "df.isnull().sum()"
   ]
  },
  {
   "cell_type": "markdown",
   "id": "f52d3763",
   "metadata": {},
   "source": [
    "### 7 - Fill Null values of two columns with mean values"
   ]
  },
  {
   "cell_type": "code",
   "execution_count": 8,
   "id": "2b3cb9c1",
   "metadata": {},
   "outputs": [],
   "source": [
    "landsize_mean = df['Landsize'].mean()\n",
    "df['Landsize'].fillna(value = landsize_mean, inplace=True)\n",
    "building_area_mean = df['BuildingArea'].mean()\n",
    "df['BuildingArea'].fillna(value=building_area_mean, inplace=True)"
   ]
  },
  {
   "cell_type": "code",
   "execution_count": 9,
   "id": "4a19e81a",
   "metadata": {},
   "outputs": [
    {
     "data": {
      "text/plain": [
       "Suburb           0\n",
       "Rooms            0\n",
       "Type             0\n",
       "Price            0\n",
       "Method           0\n",
       "SellerG          0\n",
       "Distance         0\n",
       "Bedroom2         0\n",
       "Bathroom         0\n",
       "Car              0\n",
       "Landsize         0\n",
       "BuildingArea     0\n",
       "CouncilArea      0\n",
       "Longtitude       0\n",
       "Regionname       0\n",
       "Propertycount    0\n",
       "dtype: int64"
      ]
     },
     "execution_count": 9,
     "metadata": {},
     "output_type": "execute_result"
    }
   ],
   "source": [
    "df.dropna(inplace=True)\n",
    "df.isnull().sum()"
   ]
  },
  {
   "cell_type": "markdown",
   "id": "8c0a4558",
   "metadata": {},
   "source": [
    "### 8 - Knowing unique values in Method Column"
   ]
  },
  {
   "cell_type": "code",
   "execution_count": 10,
   "id": "90abe38f",
   "metadata": {},
   "outputs": [
    {
     "data": {
      "text/plain": [
       "array(['S', 'SP', 'PI', 'VB', 'SA'], dtype=object)"
      ]
     },
     "execution_count": 10,
     "metadata": {},
     "output_type": "execute_result"
    }
   ],
   "source": [
    "df['Method'].unique()"
   ]
  },
  {
   "cell_type": "markdown",
   "id": "b31d25e1",
   "metadata": {},
   "source": [
    "### 9 - Creating dummy variables for the Categorical Data using encoding"
   ]
  },
  {
   "cell_type": "code",
   "execution_count": 11,
   "id": "47593014",
   "metadata": {},
   "outputs": [],
   "source": [
    "df=pd.get_dummies(df,drop_first=True)"
   ]
  },
  {
   "cell_type": "code",
   "execution_count": 12,
   "id": "d688ec99",
   "metadata": {},
   "outputs": [
    {
     "name": "stdout",
     "output_type": "stream",
     "text": [
      "No of Rows:  20993\n",
      "No. of Columns:  715\n"
     ]
    }
   ],
   "source": [
    "print(\"No of Rows: \", df.shape[0])\n",
    "print(\"No. of Columns: \", df.shape[1])"
   ]
  },
  {
   "cell_type": "markdown",
   "id": "65756ce5",
   "metadata": {},
   "source": [
    "# Part-2: Working with Model"
   ]
  },
  {
   "cell_type": "markdown",
   "id": "0bf549e8",
   "metadata": {},
   "source": [
    "### 1 - Create the target data and feature data where target data is price"
   ]
  },
  {
   "cell_type": "code",
   "execution_count": 13,
   "id": "716260fe",
   "metadata": {},
   "outputs": [
    {
     "data": {
      "text/html": [
       "<div>\n",
       "<style scoped>\n",
       "    .dataframe tbody tr th:only-of-type {\n",
       "        vertical-align: middle;\n",
       "    }\n",
       "\n",
       "    .dataframe tbody tr th {\n",
       "        vertical-align: top;\n",
       "    }\n",
       "\n",
       "    .dataframe thead th {\n",
       "        text-align: right;\n",
       "    }\n",
       "</style>\n",
       "<table border=\"1\" class=\"dataframe\">\n",
       "  <thead>\n",
       "    <tr style=\"text-align: right;\">\n",
       "      <th></th>\n",
       "      <th>Rooms</th>\n",
       "      <th>Price</th>\n",
       "      <th>Distance</th>\n",
       "      <th>Bedroom2</th>\n",
       "      <th>Bathroom</th>\n",
       "      <th>Car</th>\n",
       "      <th>Landsize</th>\n",
       "      <th>BuildingArea</th>\n",
       "      <th>Longtitude</th>\n",
       "      <th>Propertycount</th>\n",
       "      <th>...</th>\n",
       "      <th>CouncilArea_Wyndham City Council</th>\n",
       "      <th>CouncilArea_Yarra City Council</th>\n",
       "      <th>CouncilArea_Yarra Ranges Shire Council</th>\n",
       "      <th>Regionname_Eastern Victoria</th>\n",
       "      <th>Regionname_Northern Metropolitan</th>\n",
       "      <th>Regionname_Northern Victoria</th>\n",
       "      <th>Regionname_South-Eastern Metropolitan</th>\n",
       "      <th>Regionname_Southern Metropolitan</th>\n",
       "      <th>Regionname_Western Metropolitan</th>\n",
       "      <th>Regionname_Western Victoria</th>\n",
       "    </tr>\n",
       "  </thead>\n",
       "  <tbody>\n",
       "    <tr>\n",
       "      <th>1</th>\n",
       "      <td>2</td>\n",
       "      <td>1480000.0</td>\n",
       "      <td>2.5</td>\n",
       "      <td>2.0</td>\n",
       "      <td>1.0</td>\n",
       "      <td>1.0</td>\n",
       "      <td>202.0</td>\n",
       "      <td>160.2564</td>\n",
       "      <td>144.9984</td>\n",
       "      <td>4019.0</td>\n",
       "      <td>...</td>\n",
       "      <td>0</td>\n",
       "      <td>1</td>\n",
       "      <td>0</td>\n",
       "      <td>0</td>\n",
       "      <td>1</td>\n",
       "      <td>0</td>\n",
       "      <td>0</td>\n",
       "      <td>0</td>\n",
       "      <td>0</td>\n",
       "      <td>0</td>\n",
       "    </tr>\n",
       "    <tr>\n",
       "      <th>2</th>\n",
       "      <td>2</td>\n",
       "      <td>1035000.0</td>\n",
       "      <td>2.5</td>\n",
       "      <td>2.0</td>\n",
       "      <td>1.0</td>\n",
       "      <td>0.0</td>\n",
       "      <td>156.0</td>\n",
       "      <td>79.0000</td>\n",
       "      <td>144.9934</td>\n",
       "      <td>4019.0</td>\n",
       "      <td>...</td>\n",
       "      <td>0</td>\n",
       "      <td>1</td>\n",
       "      <td>0</td>\n",
       "      <td>0</td>\n",
       "      <td>1</td>\n",
       "      <td>0</td>\n",
       "      <td>0</td>\n",
       "      <td>0</td>\n",
       "      <td>0</td>\n",
       "      <td>0</td>\n",
       "    </tr>\n",
       "    <tr>\n",
       "      <th>4</th>\n",
       "      <td>3</td>\n",
       "      <td>1465000.0</td>\n",
       "      <td>2.5</td>\n",
       "      <td>3.0</td>\n",
       "      <td>2.0</td>\n",
       "      <td>0.0</td>\n",
       "      <td>134.0</td>\n",
       "      <td>150.0000</td>\n",
       "      <td>144.9944</td>\n",
       "      <td>4019.0</td>\n",
       "      <td>...</td>\n",
       "      <td>0</td>\n",
       "      <td>1</td>\n",
       "      <td>0</td>\n",
       "      <td>0</td>\n",
       "      <td>1</td>\n",
       "      <td>0</td>\n",
       "      <td>0</td>\n",
       "      <td>0</td>\n",
       "      <td>0</td>\n",
       "      <td>0</td>\n",
       "    </tr>\n",
       "    <tr>\n",
       "      <th>5</th>\n",
       "      <td>3</td>\n",
       "      <td>850000.0</td>\n",
       "      <td>2.5</td>\n",
       "      <td>3.0</td>\n",
       "      <td>2.0</td>\n",
       "      <td>1.0</td>\n",
       "      <td>94.0</td>\n",
       "      <td>160.2564</td>\n",
       "      <td>144.9969</td>\n",
       "      <td>4019.0</td>\n",
       "      <td>...</td>\n",
       "      <td>0</td>\n",
       "      <td>1</td>\n",
       "      <td>0</td>\n",
       "      <td>0</td>\n",
       "      <td>1</td>\n",
       "      <td>0</td>\n",
       "      <td>0</td>\n",
       "      <td>0</td>\n",
       "      <td>0</td>\n",
       "      <td>0</td>\n",
       "    </tr>\n",
       "    <tr>\n",
       "      <th>6</th>\n",
       "      <td>4</td>\n",
       "      <td>1600000.0</td>\n",
       "      <td>2.5</td>\n",
       "      <td>3.0</td>\n",
       "      <td>1.0</td>\n",
       "      <td>2.0</td>\n",
       "      <td>120.0</td>\n",
       "      <td>142.0000</td>\n",
       "      <td>144.9941</td>\n",
       "      <td>4019.0</td>\n",
       "      <td>...</td>\n",
       "      <td>0</td>\n",
       "      <td>1</td>\n",
       "      <td>0</td>\n",
       "      <td>0</td>\n",
       "      <td>1</td>\n",
       "      <td>0</td>\n",
       "      <td>0</td>\n",
       "      <td>0</td>\n",
       "      <td>0</td>\n",
       "      <td>0</td>\n",
       "    </tr>\n",
       "  </tbody>\n",
       "</table>\n",
       "<p>5 rows × 715 columns</p>\n",
       "</div>"
      ],
      "text/plain": [
       "   Rooms      Price  Distance  Bedroom2  Bathroom  Car  Landsize  \\\n",
       "1      2  1480000.0       2.5       2.0       1.0  1.0     202.0   \n",
       "2      2  1035000.0       2.5       2.0       1.0  0.0     156.0   \n",
       "4      3  1465000.0       2.5       3.0       2.0  0.0     134.0   \n",
       "5      3   850000.0       2.5       3.0       2.0  1.0      94.0   \n",
       "6      4  1600000.0       2.5       3.0       1.0  2.0     120.0   \n",
       "\n",
       "   BuildingArea  Longtitude  Propertycount  ...  \\\n",
       "1      160.2564    144.9984         4019.0  ...   \n",
       "2       79.0000    144.9934         4019.0  ...   \n",
       "4      150.0000    144.9944         4019.0  ...   \n",
       "5      160.2564    144.9969         4019.0  ...   \n",
       "6      142.0000    144.9941         4019.0  ...   \n",
       "\n",
       "   CouncilArea_Wyndham City Council  CouncilArea_Yarra City Council  \\\n",
       "1                                 0                               1   \n",
       "2                                 0                               1   \n",
       "4                                 0                               1   \n",
       "5                                 0                               1   \n",
       "6                                 0                               1   \n",
       "\n",
       "   CouncilArea_Yarra Ranges Shire Council  Regionname_Eastern Victoria  \\\n",
       "1                                       0                            0   \n",
       "2                                       0                            0   \n",
       "4                                       0                            0   \n",
       "5                                       0                            0   \n",
       "6                                       0                            0   \n",
       "\n",
       "   Regionname_Northern Metropolitan  Regionname_Northern Victoria  \\\n",
       "1                                 1                             0   \n",
       "2                                 1                             0   \n",
       "4                                 1                             0   \n",
       "5                                 1                             0   \n",
       "6                                 1                             0   \n",
       "\n",
       "   Regionname_South-Eastern Metropolitan  Regionname_Southern Metropolitan  \\\n",
       "1                                      0                                 0   \n",
       "2                                      0                                 0   \n",
       "4                                      0                                 0   \n",
       "5                                      0                                 0   \n",
       "6                                      0                                 0   \n",
       "\n",
       "   Regionname_Western Metropolitan  Regionname_Western Victoria  \n",
       "1                                0                            0  \n",
       "2                                0                            0  \n",
       "4                                0                            0  \n",
       "5                                0                            0  \n",
       "6                                0                            0  \n",
       "\n",
       "[5 rows x 715 columns]"
      ]
     },
     "execution_count": 13,
     "metadata": {},
     "output_type": "execute_result"
    }
   ],
   "source": [
    "df.head()"
   ]
  },
  {
   "cell_type": "code",
   "execution_count": 14,
   "id": "0e091c3d",
   "metadata": {},
   "outputs": [],
   "source": [
    "X=df.drop('Price',axis=1)\n",
    "y=df['Price']"
   ]
  },
  {
   "cell_type": "markdown",
   "id": "a62a8f6f",
   "metadata": {},
   "source": [
    "### 2 - Create a linear regression model for Target and feature data"
   ]
  },
  {
   "cell_type": "code",
   "execution_count": 15,
   "id": "4dd79be7",
   "metadata": {},
   "outputs": [],
   "source": [
    "X_train,X_test,y_train,y_test = tts(X,y,test_size=0.2,random_state=6)"
   ]
  },
  {
   "cell_type": "code",
   "execution_count": 16,
   "id": "c65a3d01",
   "metadata": {
    "scrolled": true
   },
   "outputs": [
    {
     "data": {
      "text/html": [
       "<div>\n",
       "<style scoped>\n",
       "    .dataframe tbody tr th:only-of-type {\n",
       "        vertical-align: middle;\n",
       "    }\n",
       "\n",
       "    .dataframe tbody tr th {\n",
       "        vertical-align: top;\n",
       "    }\n",
       "\n",
       "    .dataframe thead th {\n",
       "        text-align: right;\n",
       "    }\n",
       "</style>\n",
       "<table border=\"1\" class=\"dataframe\">\n",
       "  <thead>\n",
       "    <tr style=\"text-align: right;\">\n",
       "      <th></th>\n",
       "      <th>Rooms</th>\n",
       "      <th>Distance</th>\n",
       "      <th>Bedroom2</th>\n",
       "      <th>Bathroom</th>\n",
       "      <th>Car</th>\n",
       "      <th>Landsize</th>\n",
       "      <th>BuildingArea</th>\n",
       "      <th>Longtitude</th>\n",
       "      <th>Propertycount</th>\n",
       "      <th>Suburb_Aberfeldie</th>\n",
       "      <th>...</th>\n",
       "      <th>CouncilArea_Wyndham City Council</th>\n",
       "      <th>CouncilArea_Yarra City Council</th>\n",
       "      <th>CouncilArea_Yarra Ranges Shire Council</th>\n",
       "      <th>Regionname_Eastern Victoria</th>\n",
       "      <th>Regionname_Northern Metropolitan</th>\n",
       "      <th>Regionname_Northern Victoria</th>\n",
       "      <th>Regionname_South-Eastern Metropolitan</th>\n",
       "      <th>Regionname_Southern Metropolitan</th>\n",
       "      <th>Regionname_Western Metropolitan</th>\n",
       "      <th>Regionname_Western Victoria</th>\n",
       "    </tr>\n",
       "  </thead>\n",
       "  <tbody>\n",
       "    <tr>\n",
       "      <th>8072</th>\n",
       "      <td>3</td>\n",
       "      <td>4.5</td>\n",
       "      <td>3.0</td>\n",
       "      <td>2.0</td>\n",
       "      <td>1.0</td>\n",
       "      <td>8216.000000</td>\n",
       "      <td>130.0000</td>\n",
       "      <td>144.98760</td>\n",
       "      <td>7717.0</td>\n",
       "      <td>0</td>\n",
       "      <td>...</td>\n",
       "      <td>0</td>\n",
       "      <td>0</td>\n",
       "      <td>0</td>\n",
       "      <td>0</td>\n",
       "      <td>0</td>\n",
       "      <td>0</td>\n",
       "      <td>0</td>\n",
       "      <td>1</td>\n",
       "      <td>0</td>\n",
       "      <td>0</td>\n",
       "    </tr>\n",
       "    <tr>\n",
       "      <th>15620</th>\n",
       "      <td>3</td>\n",
       "      <td>8.2</td>\n",
       "      <td>3.0</td>\n",
       "      <td>2.0</td>\n",
       "      <td>1.0</td>\n",
       "      <td>161.000000</td>\n",
       "      <td>149.0000</td>\n",
       "      <td>144.89368</td>\n",
       "      <td>1308.0</td>\n",
       "      <td>0</td>\n",
       "      <td>...</td>\n",
       "      <td>0</td>\n",
       "      <td>0</td>\n",
       "      <td>0</td>\n",
       "      <td>0</td>\n",
       "      <td>0</td>\n",
       "      <td>0</td>\n",
       "      <td>0</td>\n",
       "      <td>0</td>\n",
       "      <td>1</td>\n",
       "      <td>0</td>\n",
       "    </tr>\n",
       "    <tr>\n",
       "      <th>17065</th>\n",
       "      <td>4</td>\n",
       "      <td>11.7</td>\n",
       "      <td>4.0</td>\n",
       "      <td>2.0</td>\n",
       "      <td>2.0</td>\n",
       "      <td>535.000000</td>\n",
       "      <td>160.2564</td>\n",
       "      <td>144.85545</td>\n",
       "      <td>5629.0</td>\n",
       "      <td>0</td>\n",
       "      <td>...</td>\n",
       "      <td>0</td>\n",
       "      <td>0</td>\n",
       "      <td>0</td>\n",
       "      <td>0</td>\n",
       "      <td>0</td>\n",
       "      <td>0</td>\n",
       "      <td>0</td>\n",
       "      <td>0</td>\n",
       "      <td>1</td>\n",
       "      <td>0</td>\n",
       "    </tr>\n",
       "    <tr>\n",
       "      <th>17168</th>\n",
       "      <td>1</td>\n",
       "      <td>10.1</td>\n",
       "      <td>1.0</td>\n",
       "      <td>1.0</td>\n",
       "      <td>1.0</td>\n",
       "      <td>0.000000</td>\n",
       "      <td>76.0000</td>\n",
       "      <td>145.06865</td>\n",
       "      <td>4442.0</td>\n",
       "      <td>0</td>\n",
       "      <td>...</td>\n",
       "      <td>0</td>\n",
       "      <td>0</td>\n",
       "      <td>0</td>\n",
       "      <td>0</td>\n",
       "      <td>0</td>\n",
       "      <td>0</td>\n",
       "      <td>0</td>\n",
       "      <td>1</td>\n",
       "      <td>0</td>\n",
       "      <td>0</td>\n",
       "    </tr>\n",
       "    <tr>\n",
       "      <th>16658</th>\n",
       "      <td>4</td>\n",
       "      <td>10.2</td>\n",
       "      <td>4.0</td>\n",
       "      <td>1.0</td>\n",
       "      <td>1.0</td>\n",
       "      <td>676.000000</td>\n",
       "      <td>160.2564</td>\n",
       "      <td>145.08696</td>\n",
       "      <td>3052.0</td>\n",
       "      <td>0</td>\n",
       "      <td>...</td>\n",
       "      <td>0</td>\n",
       "      <td>0</td>\n",
       "      <td>0</td>\n",
       "      <td>0</td>\n",
       "      <td>0</td>\n",
       "      <td>0</td>\n",
       "      <td>0</td>\n",
       "      <td>1</td>\n",
       "      <td>0</td>\n",
       "      <td>0</td>\n",
       "    </tr>\n",
       "    <tr>\n",
       "      <th>...</th>\n",
       "      <td>...</td>\n",
       "      <td>...</td>\n",
       "      <td>...</td>\n",
       "      <td>...</td>\n",
       "      <td>...</td>\n",
       "      <td>...</td>\n",
       "      <td>...</td>\n",
       "      <td>...</td>\n",
       "      <td>...</td>\n",
       "      <td>...</td>\n",
       "      <td>...</td>\n",
       "      <td>...</td>\n",
       "      <td>...</td>\n",
       "      <td>...</td>\n",
       "      <td>...</td>\n",
       "      <td>...</td>\n",
       "      <td>...</td>\n",
       "      <td>...</td>\n",
       "      <td>...</td>\n",
       "      <td>...</td>\n",
       "      <td>...</td>\n",
       "    </tr>\n",
       "    <tr>\n",
       "      <th>16509</th>\n",
       "      <td>1</td>\n",
       "      <td>12.0</td>\n",
       "      <td>1.0</td>\n",
       "      <td>1.0</td>\n",
       "      <td>1.0</td>\n",
       "      <td>113.000000</td>\n",
       "      <td>160.2564</td>\n",
       "      <td>145.02643</td>\n",
       "      <td>21650.0</td>\n",
       "      <td>0</td>\n",
       "      <td>...</td>\n",
       "      <td>0</td>\n",
       "      <td>0</td>\n",
       "      <td>0</td>\n",
       "      <td>0</td>\n",
       "      <td>1</td>\n",
       "      <td>0</td>\n",
       "      <td>0</td>\n",
       "      <td>0</td>\n",
       "      <td>0</td>\n",
       "      <td>0</td>\n",
       "    </tr>\n",
       "    <tr>\n",
       "      <th>22408</th>\n",
       "      <td>3</td>\n",
       "      <td>19.6</td>\n",
       "      <td>3.0</td>\n",
       "      <td>2.0</td>\n",
       "      <td>2.0</td>\n",
       "      <td>593.598993</td>\n",
       "      <td>125.0000</td>\n",
       "      <td>145.04721</td>\n",
       "      <td>10926.0</td>\n",
       "      <td>0</td>\n",
       "      <td>...</td>\n",
       "      <td>0</td>\n",
       "      <td>0</td>\n",
       "      <td>0</td>\n",
       "      <td>0</td>\n",
       "      <td>1</td>\n",
       "      <td>0</td>\n",
       "      <td>0</td>\n",
       "      <td>0</td>\n",
       "      <td>0</td>\n",
       "      <td>0</td>\n",
       "    </tr>\n",
       "    <tr>\n",
       "      <th>9719</th>\n",
       "      <td>4</td>\n",
       "      <td>9.7</td>\n",
       "      <td>4.0</td>\n",
       "      <td>3.0</td>\n",
       "      <td>2.0</td>\n",
       "      <td>650.000000</td>\n",
       "      <td>348.0000</td>\n",
       "      <td>144.92080</td>\n",
       "      <td>3284.0</td>\n",
       "      <td>0</td>\n",
       "      <td>...</td>\n",
       "      <td>0</td>\n",
       "      <td>0</td>\n",
       "      <td>0</td>\n",
       "      <td>0</td>\n",
       "      <td>0</td>\n",
       "      <td>0</td>\n",
       "      <td>0</td>\n",
       "      <td>0</td>\n",
       "      <td>1</td>\n",
       "      <td>0</td>\n",
       "    </tr>\n",
       "    <tr>\n",
       "      <th>15067</th>\n",
       "      <td>3</td>\n",
       "      <td>7.8</td>\n",
       "      <td>3.0</td>\n",
       "      <td>2.0</td>\n",
       "      <td>2.0</td>\n",
       "      <td>334.000000</td>\n",
       "      <td>128.0000</td>\n",
       "      <td>145.04964</td>\n",
       "      <td>5549.0</td>\n",
       "      <td>0</td>\n",
       "      <td>...</td>\n",
       "      <td>0</td>\n",
       "      <td>0</td>\n",
       "      <td>0</td>\n",
       "      <td>0</td>\n",
       "      <td>0</td>\n",
       "      <td>0</td>\n",
       "      <td>0</td>\n",
       "      <td>0</td>\n",
       "      <td>0</td>\n",
       "      <td>0</td>\n",
       "    </tr>\n",
       "    <tr>\n",
       "      <th>6928</th>\n",
       "      <td>2</td>\n",
       "      <td>6.9</td>\n",
       "      <td>2.0</td>\n",
       "      <td>1.0</td>\n",
       "      <td>1.0</td>\n",
       "      <td>166.000000</td>\n",
       "      <td>81.0000</td>\n",
       "      <td>144.93650</td>\n",
       "      <td>6232.0</td>\n",
       "      <td>0</td>\n",
       "      <td>...</td>\n",
       "      <td>0</td>\n",
       "      <td>0</td>\n",
       "      <td>0</td>\n",
       "      <td>0</td>\n",
       "      <td>0</td>\n",
       "      <td>0</td>\n",
       "      <td>0</td>\n",
       "      <td>0</td>\n",
       "      <td>1</td>\n",
       "      <td>0</td>\n",
       "    </tr>\n",
       "  </tbody>\n",
       "</table>\n",
       "<p>4199 rows × 714 columns</p>\n",
       "</div>"
      ],
      "text/plain": [
       "       Rooms  Distance  Bedroom2  Bathroom  Car     Landsize  BuildingArea  \\\n",
       "8072       3       4.5       3.0       2.0  1.0  8216.000000      130.0000   \n",
       "15620      3       8.2       3.0       2.0  1.0   161.000000      149.0000   \n",
       "17065      4      11.7       4.0       2.0  2.0   535.000000      160.2564   \n",
       "17168      1      10.1       1.0       1.0  1.0     0.000000       76.0000   \n",
       "16658      4      10.2       4.0       1.0  1.0   676.000000      160.2564   \n",
       "...      ...       ...       ...       ...  ...          ...           ...   \n",
       "16509      1      12.0       1.0       1.0  1.0   113.000000      160.2564   \n",
       "22408      3      19.6       3.0       2.0  2.0   593.598993      125.0000   \n",
       "9719       4       9.7       4.0       3.0  2.0   650.000000      348.0000   \n",
       "15067      3       7.8       3.0       2.0  2.0   334.000000      128.0000   \n",
       "6928       2       6.9       2.0       1.0  1.0   166.000000       81.0000   \n",
       "\n",
       "       Longtitude  Propertycount  Suburb_Aberfeldie  ...  \\\n",
       "8072    144.98760         7717.0                  0  ...   \n",
       "15620   144.89368         1308.0                  0  ...   \n",
       "17065   144.85545         5629.0                  0  ...   \n",
       "17168   145.06865         4442.0                  0  ...   \n",
       "16658   145.08696         3052.0                  0  ...   \n",
       "...           ...            ...                ...  ...   \n",
       "16509   145.02643        21650.0                  0  ...   \n",
       "22408   145.04721        10926.0                  0  ...   \n",
       "9719    144.92080         3284.0                  0  ...   \n",
       "15067   145.04964         5549.0                  0  ...   \n",
       "6928    144.93650         6232.0                  0  ...   \n",
       "\n",
       "       CouncilArea_Wyndham City Council  CouncilArea_Yarra City Council  \\\n",
       "8072                                  0                               0   \n",
       "15620                                 0                               0   \n",
       "17065                                 0                               0   \n",
       "17168                                 0                               0   \n",
       "16658                                 0                               0   \n",
       "...                                 ...                             ...   \n",
       "16509                                 0                               0   \n",
       "22408                                 0                               0   \n",
       "9719                                  0                               0   \n",
       "15067                                 0                               0   \n",
       "6928                                  0                               0   \n",
       "\n",
       "       CouncilArea_Yarra Ranges Shire Council  Regionname_Eastern Victoria  \\\n",
       "8072                                        0                            0   \n",
       "15620                                       0                            0   \n",
       "17065                                       0                            0   \n",
       "17168                                       0                            0   \n",
       "16658                                       0                            0   \n",
       "...                                       ...                          ...   \n",
       "16509                                       0                            0   \n",
       "22408                                       0                            0   \n",
       "9719                                        0                            0   \n",
       "15067                                       0                            0   \n",
       "6928                                        0                            0   \n",
       "\n",
       "       Regionname_Northern Metropolitan  Regionname_Northern Victoria  \\\n",
       "8072                                  0                             0   \n",
       "15620                                 0                             0   \n",
       "17065                                 0                             0   \n",
       "17168                                 0                             0   \n",
       "16658                                 0                             0   \n",
       "...                                 ...                           ...   \n",
       "16509                                 1                             0   \n",
       "22408                                 1                             0   \n",
       "9719                                  0                             0   \n",
       "15067                                 0                             0   \n",
       "6928                                  0                             0   \n",
       "\n",
       "       Regionname_South-Eastern Metropolitan  \\\n",
       "8072                                       0   \n",
       "15620                                      0   \n",
       "17065                                      0   \n",
       "17168                                      0   \n",
       "16658                                      0   \n",
       "...                                      ...   \n",
       "16509                                      0   \n",
       "22408                                      0   \n",
       "9719                                       0   \n",
       "15067                                      0   \n",
       "6928                                       0   \n",
       "\n",
       "       Regionname_Southern Metropolitan  Regionname_Western Metropolitan  \\\n",
       "8072                                  1                                0   \n",
       "15620                                 0                                1   \n",
       "17065                                 0                                1   \n",
       "17168                                 1                                0   \n",
       "16658                                 1                                0   \n",
       "...                                 ...                              ...   \n",
       "16509                                 0                                0   \n",
       "22408                                 0                                0   \n",
       "9719                                  0                                1   \n",
       "15067                                 0                                0   \n",
       "6928                                  0                                1   \n",
       "\n",
       "       Regionname_Western Victoria  \n",
       "8072                             0  \n",
       "15620                            0  \n",
       "17065                            0  \n",
       "17168                            0  \n",
       "16658                            0  \n",
       "...                            ...  \n",
       "16509                            0  \n",
       "22408                            0  \n",
       "9719                             0  \n",
       "15067                            0  \n",
       "6928                             0  \n",
       "\n",
       "[4199 rows x 714 columns]"
      ]
     },
     "execution_count": 16,
     "metadata": {},
     "output_type": "execute_result"
    }
   ],
   "source": [
    "X_test"
   ]
  },
  {
   "cell_type": "code",
   "execution_count": 17,
   "id": "fd16fc03",
   "metadata": {},
   "outputs": [],
   "source": [
    "model = LinearRegression()"
   ]
  },
  {
   "cell_type": "code",
   "execution_count": 18,
   "id": "1d2f4beb",
   "metadata": {},
   "outputs": [
    {
     "data": {
      "text/plain": [
       "LinearRegression()"
      ]
     },
     "execution_count": 18,
     "metadata": {},
     "output_type": "execute_result"
    }
   ],
   "source": [
    "model.fit(X_train,y_train)"
   ]
  },
  {
   "cell_type": "code",
   "execution_count": 19,
   "id": "0ec28f2a",
   "metadata": {},
   "outputs": [
    {
     "data": {
      "text/plain": [
       "array([1955594.8216362 ,  933920.77701104, 1118555.65522811, ...,\n",
       "       1648361.36310378, 1393408.87598664,  461466.50706738])"
      ]
     },
     "execution_count": 19,
     "metadata": {},
     "output_type": "execute_result"
    }
   ],
   "source": [
    "pred_price = model.predict(X_test)\n",
    "pred_price"
   ]
  },
  {
   "cell_type": "code",
   "execution_count": 20,
   "id": "5c72618b",
   "metadata": {},
   "outputs": [
    {
     "data": {
      "text/plain": [
       "0.6963359082956294"
      ]
     },
     "execution_count": 20,
     "metadata": {},
     "output_type": "execute_result"
    }
   ],
   "source": [
    "model.score(X_train,y_train)"
   ]
  },
  {
   "cell_type": "code",
   "execution_count": 21,
   "id": "e37929c8",
   "metadata": {},
   "outputs": [
    {
     "data": {
      "text/plain": [
       "0.6880204136383825"
      ]
     },
     "execution_count": 21,
     "metadata": {},
     "output_type": "execute_result"
    }
   ],
   "source": [
    "model.score(X_test,y_test)"
   ]
  },
  {
   "cell_type": "markdown",
   "id": "3ef9a728",
   "metadata": {},
   "source": [
    "### 3 - Checking if model is overfitting or underfitting"
   ]
  },
  {
   "cell_type": "markdown",
   "id": "36efe89a",
   "metadata": {},
   "source": [
    "There is not much difference in score of Train and Test model. So, there is no overfitting and underfitting."
   ]
  },
  {
   "cell_type": "markdown",
   "id": "7063932e",
   "metadata": {},
   "source": [
    "### 4 - If the model is overfitting then apply ridge and lasso regression algorithms"
   ]
  },
  {
   "cell_type": "markdown",
   "id": "81fa2a2b",
   "metadata": {},
   "source": [
    "There is no overfitting issue but we can always apply ridge and lasso regression and find out if there can be significant difference in score."
   ]
  },
  {
   "cell_type": "markdown",
   "id": "a60800d7",
   "metadata": {},
   "source": [
    "#### (A) Lasso Regression"
   ]
  },
  {
   "cell_type": "code",
   "execution_count": 22,
   "id": "65a42bdd",
   "metadata": {},
   "outputs": [
    {
     "name": "stderr",
     "output_type": "stream",
     "text": [
      "C:\\ProgramData\\Anaconda3\\lib\\site-packages\\sklearn\\linear_model\\_coordinate_descent.py:647: ConvergenceWarning: Objective did not converge. You might want to increase the number of iterations, check the scale of the features or consider increasing regularisation. Duality gap: 1.146e+15, tolerance: 7.204e+11\n",
      "  model = cd_fast.enet_coordinate_descent(\n"
     ]
    },
    {
     "data": {
      "text/plain": [
       "Lasso(alpha=50, max_iter=100)"
      ]
     },
     "execution_count": 22,
     "metadata": {},
     "output_type": "execute_result"
    }
   ],
   "source": [
    "lasso_reg = Lasso(alpha = 50, max_iter = 100)\n",
    "lasso_reg.fit(X_train,y_train)"
   ]
  },
  {
   "cell_type": "code",
   "execution_count": 23,
   "id": "26be577b",
   "metadata": {},
   "outputs": [
    {
     "data": {
      "text/plain": [
       "0.6917178037580247"
      ]
     },
     "execution_count": 23,
     "metadata": {},
     "output_type": "execute_result"
    }
   ],
   "source": [
    "lasso_reg.score(X_train,y_train)"
   ]
  },
  {
   "cell_type": "code",
   "execution_count": 24,
   "id": "42951b51",
   "metadata": {},
   "outputs": [
    {
     "data": {
      "text/plain": [
       "0.6900048265689334"
      ]
     },
     "execution_count": 24,
     "metadata": {},
     "output_type": "execute_result"
    }
   ],
   "source": [
    "lasso_reg.score(X_test,y_test)"
   ]
  },
  {
   "cell_type": "markdown",
   "id": "4bed8b08",
   "metadata": {},
   "source": [
    "#### (B) Ridge Regression"
   ]
  },
  {
   "cell_type": "code",
   "execution_count": 25,
   "id": "1f1e9dc0",
   "metadata": {},
   "outputs": [
    {
     "data": {
      "text/plain": [
       "Ridge(alpha=500, max_iter=100)"
      ]
     },
     "execution_count": 25,
     "metadata": {},
     "output_type": "execute_result"
    }
   ],
   "source": [
    "ridge_reg = Ridge(alpha = 500, max_iter = 100)\n",
    "ridge_reg.fit(X_train,y_train)"
   ]
  },
  {
   "cell_type": "code",
   "execution_count": 26,
   "id": "a292d57c",
   "metadata": {},
   "outputs": [
    {
     "data": {
      "text/plain": [
       "0.6280721210058698"
      ]
     },
     "execution_count": 26,
     "metadata": {},
     "output_type": "execute_result"
    }
   ],
   "source": [
    "ridge_reg.score(X_train,y_train)"
   ]
  },
  {
   "cell_type": "code",
   "execution_count": 27,
   "id": "7ba0cf8f",
   "metadata": {},
   "outputs": [
    {
     "data": {
      "text/plain": [
       "0.6263640844849787"
      ]
     },
     "execution_count": 27,
     "metadata": {},
     "output_type": "execute_result"
    }
   ],
   "source": [
    "ridge_reg.score(X_test,y_test)"
   ]
  },
  {
   "cell_type": "markdown",
   "id": "7d918bdb",
   "metadata": {},
   "source": [
    "Ridge doesnot improve any more accuracy. So, there is not much need of Lasso or Ridge"
   ]
  },
  {
   "cell_type": "markdown",
   "id": "c455b52c",
   "metadata": {},
   "source": [
    "### 5 - Extract slope and intercept value from the model"
   ]
  },
  {
   "cell_type": "code",
   "execution_count": 28,
   "id": "c21f780a",
   "metadata": {},
   "outputs": [
    {
     "name": "stdout",
     "output_type": "stream",
     "text": [
      "Slope of the model is:  [ 2.11779735e+05 -5.21331559e+04 -3.37116014e+04  1.36035204e+05\n",
      "  4.42671277e+04  2.59014949e+00  3.29648213e+01 -1.32893654e+06\n",
      "  1.38942504e+00  2.96509717e+05 -9.03808496e+04 -8.29804845e+04\n",
      "  2.32556538e+05  1.50839187e+05  3.29876744e+05  1.63269445e+05\n",
      " -1.20917717e+05 -1.54699411e+05 -3.69217025e+04  4.84366846e+04\n",
      " -8.22063076e+04 -3.71481749e+04 -4.52670699e+03  1.48631238e+05\n",
      " -2.22751073e+05 -2.21528841e+05 -2.74070525e+05 -8.96840920e+04\n",
      " -9.54725754e+04  2.19862115e+05  3.39289240e+04  1.32824093e+05\n",
      "  2.47875146e+04  1.93948913e+05  4.10536898e+04  1.77935656e+05\n",
      " -3.91102556e+05  7.24338252e+04  2.23943107e+04  1.13239363e+05\n",
      "  2.20610642e+05  1.83113873e+05 -1.42037866e+05 -5.95131718e+04\n",
      "  3.37886910e+05  2.03026537e+05 -9.02218744e-10  1.47019722e+05\n",
      " -1.55599561e+05 -1.03648520e+05  3.24338482e+05 -1.71152431e+05\n",
      " -1.11667755e+05 -1.69690981e+05  1.57785820e+05  2.14381417e+04\n",
      "  4.61616794e+04 -2.90817331e+04  1.92725565e-07 -3.15095353e+05\n",
      " -7.73222998e+04 -1.48932640e+05  1.35541138e+05 -9.12599188e+04\n",
      " -8.17063306e+04  3.12763402e+03 -5.40356549e+04 -9.81491959e+04\n",
      "  1.25685105e+04 -1.14004788e+05  4.60134420e+05  9.91009075e+04\n",
      "  3.70202587e+05  4.18795415e+04 -1.00233062e+05  4.31961055e+05\n",
      " -6.46552831e+04 -1.78002306e+05 -7.28623470e+04 -9.42039824e+04\n",
      "  1.54093267e+04 -9.86811048e+04  4.22356713e+05 -3.26036059e+04\n",
      " -1.82323471e+05 -1.97229000e+05 -4.25619860e+05 -1.32480916e+05\n",
      " -1.95632143e+05  1.62105247e+05 -3.20666004e-07 -1.76990988e+05\n",
      " -3.22648935e+05 -1.23576832e+05 -1.44323406e+04 -8.33395855e+04\n",
      " -3.57084304e+04  1.11833031e+05  8.74762873e+04  5.81648078e+04\n",
      "  7.00724748e+03  9.79254314e+04  5.93095511e+03  6.36909034e+03\n",
      "  1.17939217e+05 -3.19508910e+05  9.35446562e+04 -8.21059669e+04\n",
      "  2.11073344e+05 -7.84633627e+04 -1.41020849e+04 -2.01212359e+05\n",
      " -1.59488603e+05  1.97986117e+05 -1.47129617e+05 -3.55196168e+05\n",
      " -4.10642097e+04  4.19366909e+04  2.10379678e+05 -2.30822701e+05\n",
      " -3.08491187e+05  3.28980220e+05  3.18103470e+05  2.17800903e+05\n",
      "  7.82755308e+04  3.65351136e+04 -1.24572394e+05  6.71772253e+04\n",
      " -1.49814298e+05 -1.17812552e+05 -4.70985994e+04  1.35641766e+05\n",
      "  8.69374258e+04 -7.08313109e+04 -2.04666475e+05  1.12413282e+05\n",
      "  1.34353007e+05 -5.42741336e+04  2.24686506e+05 -1.18607634e+05\n",
      "  2.13542851e+05  2.87292413e+05 -1.04999631e+05 -3.10292260e+04\n",
      " -4.35583102e+04  2.05997278e+05 -8.44185568e+04  3.62352988e+05\n",
      " -1.91518432e+05  8.97939577e+03  1.46238507e+05 -2.17221302e+05\n",
      " -2.03751330e+03 -5.71590582e+04  3.05975147e+05 -1.09458944e+05\n",
      " -1.58558144e+05  1.11400363e+05 -1.26027719e+04 -1.52912305e+05\n",
      "  2.25068625e+05  1.68564162e+05 -2.61635651e+05  5.88409499e+04\n",
      " -2.47359362e+05 -1.29446790e+05  8.73208727e+05 -4.46093068e+05\n",
      "  4.95166847e+04 -1.62842289e+05 -4.15188247e+05 -5.55583954e+05\n",
      " -6.62450216e+04 -1.02799955e+05  1.77860746e+04  7.44025467e+04\n",
      " -1.05942331e+05  7.24276741e+03 -4.48669338e+04  3.69710377e+05\n",
      " -1.64488413e+05  2.79958219e+05 -1.34554795e+05  1.00017278e+05\n",
      " -1.25191581e+04  1.52158853e+05 -8.10714228e+04  5.59131400e+04\n",
      " -8.04650753e+04 -8.56590774e+04 -1.59335006e+05  7.30931345e+04\n",
      "  2.04005364e+05 -1.79803999e+05 -6.14624147e+04  4.28689710e+04\n",
      "  4.33847949e+04  2.51195169e+05 -3.17022429e+05 -1.69194316e+05\n",
      "  8.15611460e+04 -2.06512178e+05 -1.26006758e+05 -8.85892114e+04\n",
      "  1.17145784e+05  7.86848266e+04 -8.59489380e+04  2.80116814e+05\n",
      "  4.99949511e+04 -6.66821911e+03  2.56258139e+05 -8.54095969e+04\n",
      " -3.12153595e+04  1.72035492e+04  5.46952778e+04 -4.18905562e+05\n",
      "  2.37682863e+04  2.37203848e+05  1.52743243e+05  4.07114866e+05\n",
      " -8.40283580e+04  1.58211266e+05  2.43803486e+04  5.68847244e+04\n",
      " -2.91638805e+04 -3.88941586e+05  7.09529929e+04 -1.11841784e+05\n",
      " -2.94736616e+05  1.18939684e+05 -1.19896482e+04  2.01225531e+05\n",
      " -8.09424690e+04  4.93060672e+04  1.84809064e+05 -2.95217818e+05\n",
      "  1.79664889e+04  5.53817904e+04  2.23264709e+04 -2.42663786e+04\n",
      "  3.13932570e+05  1.63338270e+05  1.95423772e+05  3.52874037e+04\n",
      "  1.03423925e+04  1.05592205e+04 -4.87691642e+04 -3.96966142e+05\n",
      "  1.72482564e+05  1.08333687e+05  3.83615099e+05  2.01456046e+05\n",
      "  3.42129985e+05 -6.76429726e+04  2.65938479e+05  5.62933041e+04\n",
      " -5.28380042e-08 -1.59168563e+05 -1.68606756e+05 -3.85787225e+05\n",
      " -8.86553380e+04  3.81171615e+05 -4.01667938e+02 -6.91179577e+04\n",
      "  8.63009541e+04  3.46002046e+05 -2.66220530e+04  1.26458960e+05\n",
      " -7.11897859e+04 -1.27410652e+05  3.76398311e+05 -2.13811810e+05\n",
      " -2.69919230e+05 -5.49793577e+04 -1.23415824e+05  2.09178558e+05\n",
      "  8.89572766e+04 -3.17370322e+05  1.20162867e+05  1.55228311e+05\n",
      "  5.73588299e+04  3.78734389e+05 -6.53955148e+04 -5.16661566e+04\n",
      " -2.72706628e+05 -4.32842209e+04 -5.35100492e+04 -4.37619500e+05\n",
      " -7.97660304e+04  1.93572164e+03 -1.01928391e+05  2.73033723e+04\n",
      " -2.65573719e+05 -1.10305836e+05  8.37316976e+04 -2.71380723e+05\n",
      "  3.94657730e+05  8.07098271e+04 -7.83763460e+03 -1.46660184e+05\n",
      "  7.71305104e+04  3.36967696e+04 -9.52577857e+04  3.08467285e+04\n",
      " -6.96332556e+04  1.42488582e+05 -2.35137051e+05  3.22652777e+05\n",
      " -1.71007100e+05  6.06663962e+04  3.65021628e+04  3.91462285e+04\n",
      "  1.22395218e+05  1.19083571e+05 -8.92302330e+04 -9.84344944e+04\n",
      " -1.75166909e+04 -3.80792279e+05  1.75973072e+05  3.75724011e+05\n",
      " -3.12975264e+05 -2.28005266e+05  1.39192826e+05 -1.43782226e+05\n",
      " -6.67237382e+04  1.11359646e+05 -3.38847481e+04 -1.18907887e+04\n",
      " -2.36202402e+05 -3.69617305e+05 -1.08370042e+05  1.55508037e+04\n",
      " -1.67498129e+05 -2.19661384e+05  1.52922540e+05  4.44576004e+05\n",
      "  3.22915484e+04  3.37360382e+05  2.91060645e+04 -1.32939999e+05\n",
      "  1.99896447e+05  2.93082938e+05  3.34455471e+05 -4.23001250e+04\n",
      "  8.03062300e+04  4.58082817e+04 -3.25453707e+05 -5.36748167e+05\n",
      "  7.99951651e+04  3.25090233e+04  4.25298546e+04  1.82776173e+04\n",
      " -2.00949536e+04  3.49114547e+05  8.00160256e+04  4.69174548e+05\n",
      " -4.09108059e+04 -2.16998451e+05 -6.56224093e+03 -1.32686739e+05\n",
      " -1.99790068e+05  1.45994387e+05 -4.17637198e+05 -8.43702489e+04\n",
      " -8.37053451e+04  4.17679601e+05  1.43861347e+04  1.95254467e+05\n",
      "  8.45757539e+04 -1.76578798e+04 -1.01746215e+05 -3.78234141e+04\n",
      " -1.64610505e+05  1.20751041e+04  1.54500532e+05 -1.08446537e+05\n",
      " -2.76484683e+05 -1.10650457e+05 -1.90608442e+04  2.41979740e+05\n",
      "  1.56988357e+05  6.89756308e+05 -1.07283995e-07 -6.43767440e+05\n",
      " -4.93888854e+04 -2.40728659e+05 -6.84503503e+04 -1.94451853e+04\n",
      " -2.41535573e+04  1.94174309e+04 -2.28635519e+05  5.00863929e+04\n",
      " -2.15287344e+05 -1.02182434e+04  2.29629222e-07  2.65861517e+05\n",
      "  3.63457205e+05 -2.42437782e+05 -4.95432799e+04 -3.41307078e+05\n",
      "  4.73667957e+05  9.07709997e+04  8.80251468e+04  5.27817325e+05\n",
      "  1.93241950e+04 -4.97698805e+05  6.62401486e+04 -3.79173127e+05\n",
      "  5.96408482e+04 -1.53067243e+05  5.47521373e+04 -2.97498967e+05\n",
      "  2.36104566e+05 -5.06397378e+04  1.37800596e+05 -3.05444701e-08\n",
      "  2.20315994e+05 -1.34610106e+05  6.72298484e-08 -1.70270229e+05\n",
      " -2.77447562e+05 -1.98152095e+05 -3.26731466e+03 -3.78039335e+04\n",
      " -5.21590951e+03 -1.58754345e+05  1.29617476e+06  9.30268855e+04\n",
      " -2.19131547e+05  7.04365842e+03 -3.61926265e+04 -5.10092411e+05\n",
      " -2.74859570e+05 -2.93913937e+05 -3.41163181e+04 -4.38704420e+04\n",
      "  3.03991735e+05 -1.65018719e-07 -1.19621076e+02  4.87582320e+04\n",
      " -5.85339565e+03  3.63682334e+04  7.17296198e+03 -1.93354908e+05\n",
      " -1.84179035e+05 -1.32103585e+05  5.96815572e+03  9.55067688e+04\n",
      " -5.19212335e-08 -1.29010068e+04  2.48804570e+05 -3.20735815e+04\n",
      " -4.40938710e+05 -7.95982161e+04 -1.99305111e+05  1.16092505e+04\n",
      "  9.15707106e+04  1.08264302e+04  4.49692737e+05 -3.90815149e+04\n",
      "  1.04583501e+06 -3.25174903e+05  8.98238655e+03 -2.16905669e+05\n",
      " -5.25619023e+04 -1.34462271e+05 -6.70424830e+04 -2.25325907e+05\n",
      "  2.55464080e+04  4.93607037e+05  1.57309966e+04 -1.04099441e+04\n",
      " -5.99771252e+04 -2.02741169e+05 -1.47452473e+05 -9.38230409e+04\n",
      " -1.25938701e+04  8.93487595e-09  3.26345594e+04  3.98200403e+04\n",
      "  4.66966207e+04 -1.24913640e-07 -4.15893737e-08 -2.58792838e+05\n",
      "  3.78589058e+05  8.27994263e+04 -2.87325940e+05 -2.62650844e+04\n",
      "  3.76529171e+05  1.52459411e+05  2.61201002e+04  3.09044135e+05\n",
      " -5.52277017e+04 -4.56350084e+04 -1.74671178e+05  7.62921584e+03\n",
      " -1.81305774e+05  3.96753367e+05 -4.49016203e+04 -1.07033544e+05\n",
      " -2.73261772e+05 -1.71114168e+05  6.10139827e+04 -5.98126051e+04\n",
      " -6.41930354e+04  3.69787399e+05  1.42000875e+03  5.78863185e+05\n",
      " -5.77702514e+05 -1.88375925e+04  1.33677074e+05 -3.21464585e+04\n",
      " -4.94309476e+04 -1.53985505e+05 -2.19817651e+05 -8.99832023e+04\n",
      "  2.70892051e+04  3.08669475e+05 -1.48546851e+05 -3.08099605e+04\n",
      "  8.78044574e+04  8.88337863e+04 -8.35125734e+04  4.39275397e+04\n",
      " -3.09153284e+05 -1.64653753e+05  7.93501287e+04 -9.08621587e-08\n",
      "  3.33330872e+05 -1.76492171e+05  2.34518666e-07  1.73702464e+05\n",
      " -4.05452172e+04  5.96069272e+04 -1.58631679e+04  7.20412194e+05\n",
      " -3.64670996e-08 -2.97344611e+04 -2.76622668e+05  3.01423392e+04\n",
      " -6.47409506e+02  5.76255843e-08 -1.36287587e+05 -2.94515358e+04\n",
      "  2.11698822e+03 -1.67331122e+05 -3.10405689e+05 -2.79347618e+04\n",
      "  3.57814703e+04 -4.11515207e+04  9.91471797e+04 -1.79179752e+04\n",
      " -2.01563566e+05 -9.12163407e+03  3.29370738e+05 -6.11349232e+03\n",
      " -8.46264178e+04  2.84111661e+04 -5.26779331e-09 -4.06281190e+03\n",
      " -3.31449166e+05 -1.82758452e+04  7.28515939e+04 -1.15450186e+05\n",
      " -5.51808625e-08 -5.29352076e+04  1.23832336e+04  2.71428002e+05\n",
      "  6.34635387e+04  1.87497972e+05 -3.98875040e+04 -3.59588934e+04\n",
      "  4.59033977e+04 -6.32621595e+04 -1.89881047e+05 -1.34750735e-08\n",
      " -5.66477758e+01  3.32634938e+05 -5.48704417e+05 -4.41550659e+05\n",
      " -1.19477005e+05 -5.42930169e+04 -9.56620955e+04 -2.98927116e+04\n",
      " -5.06252360e+03  1.49907386e+05 -4.25832217e+04 -5.62962433e+04\n",
      " -2.17402079e+05 -6.34634430e+04 -1.42440968e+05 -1.06287189e-07\n",
      "  2.27577883e+05 -2.95209189e+04 -2.83915174e+04  1.97421817e+04\n",
      " -1.25484224e+04 -1.48333515e+04 -2.58540834e+04 -3.69576242e+04\n",
      " -2.14917800e+05  3.56494022e+05  3.51828313e+05 -4.70531752e+05\n",
      "  4.97987374e+04  8.00657364e+04  2.00428514e+05 -6.29553565e+05\n",
      "  1.74594623e+05  8.28367774e-08  2.25531207e+04 -3.26268557e+04\n",
      " -5.30014987e+04  8.33599911e+04 -5.56667949e+05  8.17391039e+05\n",
      " -3.91301000e-08  1.03565588e+05 -2.16210072e+05 -5.02157014e+04\n",
      " -3.76898211e+05 -1.60591832e+04  8.69171097e+04  4.70827987e+05\n",
      " -2.17129510e+05  8.87588933e+04 -2.21767989e+05 -1.21582158e+05\n",
      " -6.31201405e+05 -2.13817526e+05  5.56455550e+04  3.93335701e+04\n",
      " -3.22648974e+05 -7.10133463e-09  1.83648458e+05  2.30025048e+05\n",
      " -2.26098196e+05  1.82522772e+06 -2.13268546e+05  3.72529030e-09\n",
      " -3.48762156e+05  2.96526865e+04 -9.21033602e+04  5.68628074e+05\n",
      "  1.93872782e+05 -2.48877774e+04  8.46822703e+05  6.33846715e+04\n",
      " -2.56125401e+04 -1.80282935e+05  1.74168153e+05 -3.42257682e+04\n",
      "  2.94453392e+03  3.82022191e+04  1.76791873e+05 -1.35729878e+05\n",
      " -2.96914570e+05 -2.05799607e+04 -1.28883140e+05 -3.76855971e+05\n",
      " -8.20340007e+03 -5.28125424e+04  2.24266420e+05 -5.38223428e+04\n",
      "  0.00000000e+00  1.44469508e+05 -1.49315405e+05  5.45372086e+05\n",
      "  0.00000000e+00  2.27727798e+05 -6.69214417e+04 -2.84001804e+05\n",
      "  0.00000000e+00  9.22860844e+04 -9.35478092e+04  4.19270926e+05\n",
      "  3.55475079e+05 -3.69201775e+05  6.41285967e+05  3.25607699e+05\n",
      " -3.06412169e+04  4.32189100e+05  1.05665847e+05  6.86562549e+03\n",
      " -2.28001123e+05 -1.72310702e+05  1.23378283e+05  2.83317051e+05\n",
      "  1.28679831e+05  1.99881718e+05 -2.41579904e+05  3.64094444e+05\n",
      " -1.10791165e+05 -4.64865917e+05  1.75973072e+05  9.97097756e+04\n",
      " -2.05680979e+04 -8.96840920e+04 -1.52419473e+05 -2.51351188e+04\n",
      " -3.19870614e+04  2.80458557e+05  1.71683167e+05  7.54102420e+04\n",
      " -4.75712962e+05 -1.15215585e+05  3.82035398e+05  4.73271298e+05\n",
      " -3.07755875e+05  3.36496388e+05  2.65181367e+05 -2.91817670e+04\n",
      " -4.17182511e+05 -7.50629640e+04]\n",
      "Intercept of the model is:  193728528.89149296\n"
     ]
    }
   ],
   "source": [
    "print(\"Slope of the model is: \", model.coef_)\n",
    "print(\"Intercept of the model is: \", model.intercept_)"
   ]
  },
  {
   "cell_type": "markdown",
   "id": "40f39e33",
   "metadata": {},
   "source": [
    "### 6 - Display Mean Squared Error"
   ]
  },
  {
   "cell_type": "code",
   "execution_count": 29,
   "id": "f79507f2",
   "metadata": {},
   "outputs": [
    {
     "data": {
      "text/plain": [
       "129782617625.28763"
      ]
     },
     "execution_count": 29,
     "metadata": {},
     "output_type": "execute_result"
    }
   ],
   "source": [
    "m_s_e = mse(y_test,pred_price)\n",
    "m_s_e"
   ]
  },
  {
   "cell_type": "markdown",
   "id": "66d9472a",
   "metadata": {},
   "source": [
    "### 7 - Display Mean Absolute Error"
   ]
  },
  {
   "cell_type": "code",
   "execution_count": 30,
   "id": "cdd41ac6",
   "metadata": {},
   "outputs": [
    {
     "data": {
      "text/plain": [
       "231156.88695036597"
      ]
     },
     "execution_count": 30,
     "metadata": {},
     "output_type": "execute_result"
    }
   ],
   "source": [
    "m_a_e = mae(y_test,pred_price)\n",
    "m_a_e"
   ]
  },
  {
   "cell_type": "markdown",
   "id": "52ea82cc",
   "metadata": {},
   "source": [
    "### 8 - Root Mean Squared Error"
   ]
  },
  {
   "cell_type": "code",
   "execution_count": 31,
   "id": "fe563b04",
   "metadata": {},
   "outputs": [
    {
     "data": {
      "text/plain": [
       "360253.54630494287"
      ]
     },
     "execution_count": 31,
     "metadata": {},
     "output_type": "execute_result"
    }
   ],
   "source": [
    "rmse = np.sqrt(m_s_e)\n",
    "rmse"
   ]
  },
  {
   "cell_type": "markdown",
   "id": "141e30eb",
   "metadata": {},
   "source": [
    "### 9 - R2 Score"
   ]
  },
  {
   "cell_type": "code",
   "execution_count": 32,
   "id": "54c99a09",
   "metadata": {},
   "outputs": [
    {
     "data": {
      "text/plain": [
       "0.6880204136383825"
      ]
     },
     "execution_count": 32,
     "metadata": {},
     "output_type": "execute_result"
    }
   ],
   "source": [
    "r2 = r2_score(y_test,pred_price)\n",
    "r2"
   ]
  }
 ],
 "metadata": {
  "kernelspec": {
   "display_name": "Python 3 (ipykernel)",
   "language": "python",
   "name": "python3"
  },
  "language_info": {
   "codemirror_mode": {
    "name": "ipython",
    "version": 3
   },
   "file_extension": ".py",
   "mimetype": "text/x-python",
   "name": "python",
   "nbconvert_exporter": "python",
   "pygments_lexer": "ipython3",
   "version": "3.9.12"
  }
 },
 "nbformat": 4,
 "nbformat_minor": 5
}
